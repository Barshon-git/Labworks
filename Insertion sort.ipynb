{
 "cells": [
  {
   "cell_type": "code",
   "execution_count": 1,
   "metadata": {},
   "outputs": [
    {
     "name": "stdout",
     "output_type": "stream",
     "text": [
      "how many number are for input?  8\n",
      "32\n",
      "67\n",
      "46\n",
      "89\n",
      "76\n",
      "43\n",
      "56\n",
      "77\n",
      "[32, 43, 46, 56, 67, 76, 77, 89]\n"
     ]
    }
   ],
   "source": [
    "a= list()\n",
    "print('how many number are for input? ',end=' ')\n",
    "num=int(input())\n",
    "for i in range(0,num):\n",
    "    x=int(input())\n",
    "    a.append(x)\n",
    "def insertion_sort(a):\n",
    "    for i in range(1,len(a)):\n",
    "        j=i-1\n",
    "        while(a[j]>a[j+1] and j>=0):\n",
    "                temp= a[j]\n",
    "                a[j]=a[j+1]\n",
    "                a[j+1]=temp\n",
    "                j-=1\n",
    "insertion_sort(a)\n",
    "print(a)"
   ]
  },
  {
   "cell_type": "code",
   "execution_count": null,
   "metadata": {},
   "outputs": [],
   "source": []
  }
 ],
 "metadata": {
  "kernelspec": {
   "display_name": "Python 3",
   "language": "python",
   "name": "python3"
  },
  "language_info": {
   "codemirror_mode": {
    "name": "ipython",
    "version": 3
   },
   "file_extension": ".py",
   "mimetype": "text/x-python",
   "name": "python",
   "nbconvert_exporter": "python",
   "pygments_lexer": "ipython3",
   "version": "3.7.3"
  }
 },
 "nbformat": 4,
 "nbformat_minor": 2
}
