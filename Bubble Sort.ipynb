{
 "cells": [
  {
   "cell_type": "code",
   "execution_count": 1,
   "metadata": {},
   "outputs": [
    {
     "name": "stdout",
     "output_type": "stream",
     "text": [
      "how many number are for input? \n",
      "7\n",
      "34\n",
      "56\n",
      "34\n",
      "67\n",
      "54\n",
      "78\n",
      "5\n",
      "[5, 34, 34, 54, 56, 67, 78]\n"
     ]
    }
   ],
   "source": [
    "a= list()\n",
    "print('how many number are for input? ')\n",
    "\n",
    "num=int(input())\n",
    "\n",
    "for i in range(0,num):\n",
    "            x=int(input())\n",
    "            a.append(x)\n",
    "for i in range(0,num):\n",
    "    for j in range(0,num-1):\n",
    "        if(a[j]>a[j+1]):\n",
    "            temp=a[j]\n",
    "            a[j]=a[j+1]\n",
    "            a[j+1]=temp\n",
    "print(a)"
   ]
  },
  {
   "cell_type": "code",
   "execution_count": null,
   "metadata": {},
   "outputs": [],
   "source": []
  }
 ],
 "metadata": {
  "kernelspec": {
   "display_name": "Python 3",
   "language": "python",
   "name": "python3"
  },
  "language_info": {
   "codemirror_mode": {
    "name": "ipython",
    "version": 3
   },
   "file_extension": ".py",
   "mimetype": "text/x-python",
   "name": "python",
   "nbconvert_exporter": "python",
   "pygments_lexer": "ipython3",
   "version": "3.7.3"
  }
 },
 "nbformat": 4,
 "nbformat_minor": 2
}
