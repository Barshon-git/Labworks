{
 "cells": [
  {
   "cell_type": "code",
   "execution_count": 2,
   "metadata": {},
   "outputs": [
    {
     "name": "stdout",
     "output_type": "stream",
     "text": [
      "Enter size of the list: 6\n",
      "Enter an element 34\n",
      "Enter an element 76\n",
      "Enter an element 4\n",
      "Enter an element 7\n",
      "Enter an element 34\n",
      "Enter an element 11\n",
      "[4, 7, 11, 34, 34, 76]\n"
     ]
    }
   ],
   "source": [
    "def partition(sort_list, low, high):\n",
    "    i = (low -1)\n",
    "    pivot = sort_list[high]\n",
    "    for j in range(low, high):\n",
    "        if sort_list[j] <= pivot:\n",
    "            i += 1\n",
    "            sort_list[i], sort_list[j] = sort_list[j], sort_list[i]\n",
    "    sort_list[i+1],sort_list[high] = sort_list[high], sort_list[i+1]\n",
    "    return (i+1)\n",
    "            \n",
    "def quick_sort(sort_list, low, high):\n",
    "    if low < high:\n",
    "        pi = partition(sort_list, low, high)\n",
    "        quick_sort(sort_list, low, pi-1)\n",
    "        quick_sort(sort_list, pi+1, high)\n",
    "lst = []\n",
    "size = int(input(\"Enter size of the list: \"))\n",
    "for i in range(size):\n",
    "    elements = int(input(\"Enter an element \"))\n",
    "    lst.append(elements)\n",
    "low = 0\n",
    "high = len(lst) - 1\n",
    "quick_sort(lst, low, high)\n",
    "print(lst)"
   ]
  },
  {
   "cell_type": "code",
   "execution_count": null,
   "metadata": {},
   "outputs": [],
   "source": []
  }
 ],
 "metadata": {
  "kernelspec": {
   "display_name": "Python 3",
   "language": "python",
   "name": "python3"
  },
  "language_info": {
   "codemirror_mode": {
    "name": "ipython",
    "version": 3
   },
   "file_extension": ".py",
   "mimetype": "text/x-python",
   "name": "python",
   "nbconvert_exporter": "python",
   "pygments_lexer": "ipython3",
   "version": "3.7.3"
  }
 },
 "nbformat": 4,
 "nbformat_minor": 2
}
