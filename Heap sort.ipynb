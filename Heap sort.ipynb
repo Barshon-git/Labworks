{
 "cells": [
  {
   "cell_type": "code",
   "execution_count": 1,
   "metadata": {},
   "outputs": [
    {
     "name": "stdout",
     "output_type": "stream",
     "text": [
      "Before sort:\n",
      "[5, 8, 1, 6, 3, 7, 2, 4, 9]\n",
      "After sort:\n",
      "[1, 2, 3, 4, 5, 6, 7, 8, 9]\n"
     ]
    }
   ],
   "source": [
    "\n",
    "def heapify(data, n, i):\n",
    "    largest = i\n",
    "    l = 2 * i + 1\n",
    "    r = 2 * i + 2\n",
    " \n",
    "    \n",
    "    if l < n and data[i] < data[l]:\n",
    "        largest = l\n",
    " \n",
    "    \n",
    "    if r < n and data[largest] < data[r]:\n",
    "        largest = r\n",
    " \n",
    "    \n",
    "    if largest != i:\n",
    "        data[i],data[largest] = data[largest],data[i]\n",
    " \n",
    "    \n",
    "        heapify(data, n, largest)\n",
    " \n",
    "\n",
    "def heapSort(data):\n",
    "    n = len(data)\n",
    " \n",
    "    \n",
    "    for i in range(n, -1, -1):\n",
    "        heapify(data, n, i)\n",
    " \n",
    "    \n",
    "    for i in range(n-1, 0, -1):\n",
    "        data[i], data[0] = data[0], data[i]\n",
    "        heapify(data, i, 0)\n",
    "  \n",
    "  \n",
    "numList = [5,8,1,6,3,7,2,4,9]\n",
    "print('Before sort:')\n",
    "print(numList)\n",
    "\n",
    "heapSort(numList)\n",
    "print('After sort:')\n",
    "print(numList)\n",
    "\n",
    "\n"
   ]
  },
  {
   "cell_type": "code",
   "execution_count": null,
   "metadata": {},
   "outputs": [],
   "source": []
  }
 ],
 "metadata": {
  "kernelspec": {
   "display_name": "Python 3",
   "language": "python",
   "name": "python3"
  },
  "language_info": {
   "codemirror_mode": {
    "name": "ipython",
    "version": 3
   },
   "file_extension": ".py",
   "mimetype": "text/x-python",
   "name": "python",
   "nbconvert_exporter": "python",
   "pygments_lexer": "ipython3",
   "version": "3.7.3"
  }
 },
 "nbformat": 4,
 "nbformat_minor": 2
}
